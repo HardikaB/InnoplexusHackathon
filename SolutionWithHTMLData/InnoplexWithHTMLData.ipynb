{
 "cells": [
  {
   "cell_type": "code",
   "execution_count": 1,
   "metadata": {},
   "outputs": [],
   "source": [
    "import pandas as pd\n",
    "import numpy as np\n",
    "from sklearn.feature_extraction.text import TfidfVectorizer\n",
    "from sklearn.linear_model import LogisticRegression\n",
    "from scipy.sparse import hstack, csr_matrix\n",
    "from sklearn.preprocessing import StandardScaler, RobustScaler\n",
    "from sklearn.model_selection import cross_val_score\n",
    "import scipy.sparse as sparse\n",
    "import string\n",
    "import gc\n",
    "\n",
    "from xgboost import XGBClassifier\n",
    "from sklearn.ensemble import RandomForestClassifier, GradientBoostingClassifier\n",
    "from sklearn.model_selection import train_test_split\n",
    "from sklearn.metrics import accuracy_score\n",
    "from sklearn.metrics import f1_score\n",
    "from sklearn import preprocessing \n",
    "\n",
    "from sklearn.model_selection import GridSearchCV\n",
    "import seaborn as sns\n",
    "%matplotlib inline\n",
    "sns.set(style=\"darkgrid\")"
   ]
  },
  {
   "cell_type": "code",
   "execution_count": 3,
   "metadata": {},
   "outputs": [],
   "source": [
    "df_train = pd.read_csv('./data/train.csv',encoding='utf-8')"
   ]
  },
  {
   "cell_type": "code",
   "execution_count": 4,
   "metadata": {},
   "outputs": [],
   "source": [
    "df_html = pd.read_csv('./data/html_data.csv',encoding='utf-8')"
   ]
  },
  {
   "cell_type": "code",
   "execution_count": 5,
   "metadata": {},
   "outputs": [],
   "source": [
    "df_test = pd.read_csv('./data/test.xls',encoding='utf-8')"
   ]
  },
  {
   "cell_type": "code",
   "execution_count": 6,
   "metadata": {},
   "outputs": [
    {
     "data": {
      "text/plain": [
       "53447"
      ]
     },
     "execution_count": 6,
     "metadata": {},
     "output_type": "execute_result"
    }
   ],
   "source": [
    "len(df_train)"
   ]
  },
  {
   "cell_type": "code",
   "execution_count": 7,
   "metadata": {},
   "outputs": [
    {
     "data": {
      "text/plain": [
       "25787"
      ]
     },
     "execution_count": 7,
     "metadata": {},
     "output_type": "execute_result"
    }
   ],
   "source": [
    "len(df_test)"
   ]
  },
  {
   "cell_type": "code",
   "execution_count": 8,
   "metadata": {},
   "outputs": [
    {
     "data": {
      "text/plain": [
       "79345"
      ]
     },
     "execution_count": 8,
     "metadata": {},
     "output_type": "execute_result"
    }
   ],
   "source": [
    "len(df_html)"
   ]
  },
  {
   "cell_type": "code",
   "execution_count": 13,
   "metadata": {},
   "outputs": [
    {
     "data": {
      "text/html": [
       "<div>\n",
       "<style scoped>\n",
       "    .dataframe tbody tr th:only-of-type {\n",
       "        vertical-align: middle;\n",
       "    }\n",
       "\n",
       "    .dataframe tbody tr th {\n",
       "        vertical-align: top;\n",
       "    }\n",
       "\n",
       "    .dataframe thead th {\n",
       "        text-align: right;\n",
       "    }\n",
       "</style>\n",
       "<table border=\"1\" class=\"dataframe\">\n",
       "  <thead>\n",
       "    <tr style=\"text-align: right;\">\n",
       "      <th></th>\n",
       "      <th>Webpage_id</th>\n",
       "      <th>Domain</th>\n",
       "      <th>Url</th>\n",
       "      <th>Tag</th>\n",
       "    </tr>\n",
       "  </thead>\n",
       "  <tbody>\n",
       "    <tr>\n",
       "      <th>0</th>\n",
       "      <td>1</td>\n",
       "      <td>www.fiercepharma.com</td>\n",
       "      <td>http://www.fiercepharma.com/marketing/tecfider...</td>\n",
       "      <td>news</td>\n",
       "    </tr>\n",
       "    <tr>\n",
       "      <th>1</th>\n",
       "      <td>2</td>\n",
       "      <td>www.fiercepharma.com</td>\n",
       "      <td>http://www.fiercepharma.com/pharma/novo-equipp...</td>\n",
       "      <td>news</td>\n",
       "    </tr>\n",
       "    <tr>\n",
       "      <th>2</th>\n",
       "      <td>3</td>\n",
       "      <td>www.fiercepharma.com</td>\n",
       "      <td>http://www.fiercepharma.com/pharma/another-exe...</td>\n",
       "      <td>news</td>\n",
       "    </tr>\n",
       "    <tr>\n",
       "      <th>3</th>\n",
       "      <td>4</td>\n",
       "      <td>www.fiercepharma.com</td>\n",
       "      <td>http://www.fiercepharma.com/pharma/teva-buy-bi...</td>\n",
       "      <td>news</td>\n",
       "    </tr>\n",
       "    <tr>\n",
       "      <th>4</th>\n",
       "      <td>5</td>\n",
       "      <td>www.fiercepharma.com</td>\n",
       "      <td>http://www.fiercepharma.com/marketing/actress-...</td>\n",
       "      <td>news</td>\n",
       "    </tr>\n",
       "  </tbody>\n",
       "</table>\n",
       "</div>"
      ],
      "text/plain": [
       "   Webpage_id                Domain  \\\n",
       "0           1  www.fiercepharma.com   \n",
       "1           2  www.fiercepharma.com   \n",
       "2           3  www.fiercepharma.com   \n",
       "3           4  www.fiercepharma.com   \n",
       "4           5  www.fiercepharma.com   \n",
       "\n",
       "                                                 Url   Tag  \n",
       "0  http://www.fiercepharma.com/marketing/tecfider...  news  \n",
       "1  http://www.fiercepharma.com/pharma/novo-equipp...  news  \n",
       "2  http://www.fiercepharma.com/pharma/another-exe...  news  \n",
       "3  http://www.fiercepharma.com/pharma/teva-buy-bi...  news  \n",
       "4  http://www.fiercepharma.com/marketing/actress-...  news  "
      ]
     },
     "execution_count": 13,
     "metadata": {},
     "output_type": "execute_result"
    }
   ],
   "source": [
    "df_train.head()"
   ]
  },
  {
   "cell_type": "code",
   "execution_count": 14,
   "metadata": {},
   "outputs": [
    {
     "data": {
      "text/plain": [
       "3974"
      ]
     },
     "execution_count": 14,
     "metadata": {},
     "output_type": "execute_result"
    }
   ],
   "source": [
    "len(df_train['Domain'].unique())"
   ]
  },
  {
   "cell_type": "code",
   "execution_count": 15,
   "metadata": {},
   "outputs": [
    {
     "data": {
      "text/plain": [
       "thesis.library.caltech.edu               301\n",
       "www.dart-europe.eu                       300\n",
       "academiccommons.columbia.edu             300\n",
       "dspace.mit.edu                           300\n",
       "curate.nd.edu                            300\n",
       "ecommons.cornell.edu                     300\n",
       "www.nice.org.uk                          230\n",
       "www.ncbi.nlm.nih.gov                     226\n",
       "ctri.nic.in                              209\n",
       "www.australiancancertrials.gov.au        209\n",
       "rctportal.niph.go.jp                     206\n",
       "slctr.lk                                 203\n",
       "en.search.irct.ir                        201\n",
       "cris.nih.go.kr                           200\n",
       "www.clinicaltrials.jp                    200\n",
       "www.anzctr.org.au                        200\n",
       "www.trialregister.nl                     200\n",
       "www.clinicaltrials.in.th                 200\n",
       "www.medbox.org                           200\n",
       "www.isrctn.com                           200\n",
       "www.clinicalguidelines.gov.au            200\n",
       "upload.umin.ac.jp                        200\n",
       "www.chictr.org.cn                        200\n",
       "clinicaltrials.gov                       200\n",
       "agelab.mit.edu                           199\n",
       "www.mskcc.org                            196\n",
       "guidelines.gov                           189\n",
       "www.ucsfhealth.org                       174\n",
       "www.hopkinsmedicine.org                  172\n",
       "www.openwetware.org                      170\n",
       "                                        ... \n",
       "f1000.com                                  1\n",
       "ebus.the-aps.org                           1\n",
       "careers.kidney.org                         1\n",
       "indexmedicus.afro.who.int                  1\n",
       "jmedicalcasereports.biomedcentral.com      1\n",
       "metro.co.uk                                1\n",
       "illinoistreasurer.gov                      1\n",
       "globalnews.ca                              1\n",
       "www.greatirelandrun.org                    1\n",
       "microbiome.mit.edu                         1\n",
       "timetables.oag.com                         1\n",
       "kellogg.northwestern.edu                   1\n",
       "beta.fortune.com                           1\n",
       "aidfm-cetera.com                           1\n",
       "netscope.io                                1\n",
       "www.flneurosurg.org                        1\n",
       "now.wsj.com                                1\n",
       "frame.us4.list-manage.com                  1\n",
       "marketing.timesinternet.in                 1\n",
       "ir.hill-rom.com                            1\n",
       "www.casconference.ca                       1\n",
       "dpt2.samhsa.gov                            1\n",
       "daily.gatech.edu                           1\n",
       "www.arcweb.com                             1\n",
       "elearn.ima.org.il                          1\n",
       "www.sgo.org                                1\n",
       "finance.boston.com                         1\n",
       "bigcharts.marketwatch.com                  1\n",
       "colloquy.com                               1\n",
       "www.VelmaCanaday.com                       1\n",
       "Name: Domain, Length: 3974, dtype: int64"
      ]
     },
     "execution_count": 15,
     "metadata": {},
     "output_type": "execute_result"
    }
   ],
   "source": [
    "df_train['Domain'].value_counts()"
   ]
  },
  {
   "cell_type": "code",
   "execution_count": 16,
   "metadata": {},
   "outputs": [
    {
     "data": {
      "text/plain": [
       "2150"
      ]
     },
     "execution_count": 16,
     "metadata": {},
     "output_type": "execute_result"
    }
   ],
   "source": [
    "len(df_test['Domain'].unique())"
   ]
  },
  {
   "cell_type": "code",
   "execution_count": null,
   "metadata": {},
   "outputs": [],
   "source": [
    "print(df_html.iloc[0][1])"
   ]
  },
  {
   "cell_type": "code",
   "execution_count": 17,
   "metadata": {},
   "outputs": [],
   "source": [
    "from bs4 import BeautifulSoup\n",
    "from bs4.element import Comment\n",
    "import re\n",
    "\n",
    "\n",
    "def tag_visible(element):\n",
    "    if element.parent.name in ['style', 'script', 'head', 'title', 'meta', '[document]']:\n",
    "        return False\n",
    "    if isinstance(element, Comment):\n",
    "        return False\n",
    "    return True\n",
    "\n",
    "\n",
    "def text_from_html(body):\n",
    "    soup = BeautifulSoup(body, 'html.parser')\n",
    "    #print(type(soup))\n",
    "    texts = soup.findAll(text=True)\n",
    "    #print(texts)\n",
    "    visible_texts = filter(tag_visible, texts) \n",
    "    text = u\" \".join(t.strip() for t in visible_texts)\n",
    "    text = text.replace(',','')\n",
    "    return (re.sub(r'\\s\\s+',' ',text))\n",
    "text = (text_from_html(df_html.iloc[0][1]))"
   ]
  },
  {
   "cell_type": "code",
   "execution_count": 18,
   "metadata": {},
   "outputs": [],
   "source": [
    "df_html['web_text'] = df_html['Html'].apply(lambda x: text_from_html(x))"
   ]
  },
  {
   "cell_type": "code",
   "execution_count": 19,
   "metadata": {},
   "outputs": [],
   "source": [
    "del df_html['Html']"
   ]
  },
  {
   "cell_type": "code",
   "execution_count": 20,
   "metadata": {},
   "outputs": [],
   "source": [
    "resulttrain = pd.merge(df_train, df_html, how='left', on=['Webpage_id'])"
   ]
  },
  {
   "cell_type": "code",
   "execution_count": 30,
   "metadata": {},
   "outputs": [
    {
     "data": {
      "text/plain": [
       "Webpage_id    0\n",
       "Tag           0\n",
       "web_text      0\n",
       "url_length    0\n",
       "url_text      0\n",
       "dtype: int64"
      ]
     },
     "execution_count": 30,
     "metadata": {},
     "output_type": "execute_result"
    }
   ],
   "source": [
    "resulttrain.isnull().sum()"
   ]
  },
  {
   "cell_type": "code",
   "execution_count": 27,
   "metadata": {},
   "outputs": [],
   "source": [
    "resulttrain['url_clean'] = resulttrain.apply(lambda x: str(x['Url']).replace(x['Domain'],''),axis=1)\n",
    "del resulttrain['Domain']\n",
    "resulttrain['url_clean'] = resulttrain['url_clean'].apply(lambda x: (re.split('https:///|http:///|/|-|=',x))[1:])\n",
    "resulttrain['url_length'] = resulttrain['url_clean'].apply(lambda x: len(x))\n",
    "resulttrain['url_text'] = resulttrain['url_clean'].apply(lambda x: ' '.join(x))\n",
    "del resulttrain['Url']\n",
    "del resulttrain['url_clean']"
   ]
  },
  {
   "cell_type": "code",
   "execution_count": 28,
   "metadata": {
    "scrolled": false
   },
   "outputs": [
    {
     "data": {
      "text/html": [
       "<div>\n",
       "<style scoped>\n",
       "    .dataframe tbody tr th:only-of-type {\n",
       "        vertical-align: middle;\n",
       "    }\n",
       "\n",
       "    .dataframe tbody tr th {\n",
       "        vertical-align: top;\n",
       "    }\n",
       "\n",
       "    .dataframe thead th {\n",
       "        text-align: right;\n",
       "    }\n",
       "</style>\n",
       "<table border=\"1\" class=\"dataframe\">\n",
       "  <thead>\n",
       "    <tr style=\"text-align: right;\">\n",
       "      <th></th>\n",
       "      <th>Webpage_id</th>\n",
       "      <th>Tag</th>\n",
       "      <th>web_text</th>\n",
       "      <th>url_length</th>\n",
       "      <th>url_text</th>\n",
       "    </tr>\n",
       "  </thead>\n",
       "  <tbody>\n",
       "    <tr>\n",
       "      <th>0</th>\n",
       "      <td>1</td>\n",
       "      <td>news</td>\n",
       "      <td>Skip to main content Twitter LinkedIn Search ...</td>\n",
       "      <td>17</td>\n",
       "      <td>marketing tecfidera gilenya and aubagio s 3 wa...</td>\n",
       "    </tr>\n",
       "    <tr>\n",
       "      <th>1</th>\n",
       "      <td>2</td>\n",
       "      <td>news</td>\n",
       "      <td>Skip to main content Twitter LinkedIn Search ...</td>\n",
       "      <td>12</td>\n",
       "      <td>pharma novo equipped to weather storm u s diab...</td>\n",
       "    </tr>\n",
       "    <tr>\n",
       "      <th>2</th>\n",
       "      <td>3</td>\n",
       "      <td>news</td>\n",
       "      <td>Skip to main content Twitter LinkedIn Search ...</td>\n",
       "      <td>13</td>\n",
       "      <td>pharma another exec departs troubled endo and ...</td>\n",
       "    </tr>\n",
       "    <tr>\n",
       "      <th>3</th>\n",
       "      <td>4</td>\n",
       "      <td>news</td>\n",
       "      <td>Skip to main content Twitter LinkedIn Search ...</td>\n",
       "      <td>11</td>\n",
       "      <td>pharma teva buy biosim specialist celltrion it...</td>\n",
       "    </tr>\n",
       "    <tr>\n",
       "      <th>4</th>\n",
       "      <td>5</td>\n",
       "      <td>news</td>\n",
       "      <td>Skip to main content Twitter LinkedIn Search ...</td>\n",
       "      <td>12</td>\n",
       "      <td>marketing actress marissa tomei partners aller...</td>\n",
       "    </tr>\n",
       "  </tbody>\n",
       "</table>\n",
       "</div>"
      ],
      "text/plain": [
       "   Webpage_id   Tag                                           web_text  \\\n",
       "0           1  news   Skip to main content Twitter LinkedIn Search ...   \n",
       "1           2  news   Skip to main content Twitter LinkedIn Search ...   \n",
       "2           3  news   Skip to main content Twitter LinkedIn Search ...   \n",
       "3           4  news   Skip to main content Twitter LinkedIn Search ...   \n",
       "4           5  news   Skip to main content Twitter LinkedIn Search ...   \n",
       "\n",
       "   url_length                                           url_text  \n",
       "0          17  marketing tecfidera gilenya and aubagio s 3 wa...  \n",
       "1          12  pharma novo equipped to weather storm u s diab...  \n",
       "2          13  pharma another exec departs troubled endo and ...  \n",
       "3          11  pharma teva buy biosim specialist celltrion it...  \n",
       "4          12  marketing actress marissa tomei partners aller...  "
      ]
     },
     "execution_count": 28,
     "metadata": {},
     "output_type": "execute_result"
    }
   ],
   "source": [
    "resulttrain.head()"
   ]
  },
  {
   "cell_type": "code",
   "execution_count": 29,
   "metadata": {},
   "outputs": [],
   "source": [
    "resulttrain.to_csv('trainwHDF.csv',encoding='utf-8')"
   ]
  },
  {
   "cell_type": "code",
   "execution_count": 31,
   "metadata": {},
   "outputs": [],
   "source": [
    "resulttest = pd.merge(df_test, df_html, how='left', on=['Webpage_id'])"
   ]
  },
  {
   "cell_type": "code",
   "execution_count": 32,
   "metadata": {},
   "outputs": [
    {
     "data": {
      "text/plain": [
       "Webpage_id    0\n",
       "Domain        0\n",
       "Url           0\n",
       "web_text      0\n",
       "dtype: int64"
      ]
     },
     "execution_count": 32,
     "metadata": {},
     "output_type": "execute_result"
    }
   ],
   "source": [
    "resulttest.isnull().sum()"
   ]
  },
  {
   "cell_type": "code",
   "execution_count": 33,
   "metadata": {},
   "outputs": [],
   "source": [
    "resulttest['url_clean'] = resulttest.apply(lambda x: str(x['Url']).replace(x['Domain'],''),axis=1)\n",
    "del resulttest['Domain']\n",
    "resulttest['url_clean'] = resulttest['url_clean'].apply(lambda x: (re.split('https:///|http:///|/|-|=',x))[1:])\n",
    "resulttest['url_length'] = resulttest['url_clean'].apply(lambda x: len(x))\n",
    "resulttest['url_text'] = resulttest['url_clean'].apply(lambda x: ' '.join(x))\n",
    "del resulttest['Url']\n",
    "del resulttest['url_clean']"
   ]
  },
  {
   "cell_type": "code",
   "execution_count": 34,
   "metadata": {},
   "outputs": [
    {
     "name": "stdout",
     "output_type": "stream",
     "text": [
      "<class 'pandas.core.frame.DataFrame'>\n",
      "Int64Index: 25787 entries, 0 to 25786\n",
      "Data columns (total 4 columns):\n",
      "Webpage_id    25787 non-null int64\n",
      "web_text      25787 non-null object\n",
      "url_length    25787 non-null int64\n",
      "url_text      25787 non-null object\n",
      "dtypes: int64(2), object(2)\n",
      "memory usage: 1007.3+ KB\n"
     ]
    }
   ],
   "source": [
    "resulttest.info()"
   ]
  },
  {
   "cell_type": "code",
   "execution_count": 90,
   "metadata": {},
   "outputs": [],
   "source": [
    "resulttest[(resulttest['Webpage_id']<75584) | (resulttest['Webpage_id']>75594)].to_csv('testwHDF.csv',encoding='utf-8')"
   ]
  },
  {
   "cell_type": "code",
   "execution_count": null,
   "metadata": {
    "scrolled": true
   },
   "outputs": [],
   "source": [
    "df=resulttest[(resulttest['Webpage_id']>=75584) & (resulttest['Webpage_id']<=75594)].copy()"
   ]
  },
  {
   "cell_type": "code",
   "execution_count": null,
   "metadata": {},
   "outputs": [],
   "source": [
    "df['web_text']=df['web_text'].apply(lambda x : x[2511:2520])"
   ]
  },
  {
   "cell_type": "code",
   "execution_count": null,
   "metadata": {},
   "outputs": [],
   "source": [
    "print(df['web_text'])"
   ]
  },
  {
   "cell_type": "code",
   "execution_count": null,
   "metadata": {},
   "outputs": [],
   "source": [
    "df=resulttest[(resulttest['Webpage_id']>=75584) & (resulttest['Webpage_id']<=75594)].copy()"
   ]
  }
 ],
 "metadata": {
  "kernelspec": {
   "display_name": "Python 3",
   "language": "python",
   "name": "python3"
  },
  "language_info": {
   "codemirror_mode": {
    "name": "ipython",
    "version": 3
   },
   "file_extension": ".py",
   "mimetype": "text/x-python",
   "name": "python",
   "nbconvert_exporter": "python",
   "pygments_lexer": "ipython3",
   "version": "3.6.4"
  }
 },
 "nbformat": 4,
 "nbformat_minor": 2
}
